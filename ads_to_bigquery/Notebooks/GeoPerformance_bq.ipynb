{
 "cells": [
  {
   "cell_type": "markdown",
   "metadata": {},
   "source": [
    "### Imports"
   ]
  },
  {
   "cell_type": "code",
   "execution_count": 20,
   "metadata": {},
   "outputs": [],
   "source": [
    "import sys\n",
    "import io\n",
    "import os\n",
    "import datetime\n",
    "import numpy as np\n",
    "import pandas as pd\n",
    "from googleads import adwords\n",
    "from google.cloud import bigquery\n",
    "\n",
    "import warnings"
   ]
  },
  {
   "cell_type": "markdown",
   "metadata": {},
   "source": [
    "### API Call"
   ]
  },
  {
   "cell_type": "code",
   "execution_count": 21,
   "metadata": {},
   "outputs": [],
   "source": [
    "output = io.StringIO()"
   ]
  },
  {
   "cell_type": "code",
   "execution_count": 22,
   "metadata": {},
   "outputs": [
    {
     "name": "stderr",
     "output_type": "stream",
     "text": [
      "Your default encoding, cp65001, is not UTF-8. Please run this script with UTF-8 encoding to avoid errors.\n"
     ]
    }
   ],
   "source": [
    "adwords_client = adwords.AdWordsClient.LoadFromStorage(r'''C:\\Users\\cdageforde\\Desktop\\ads\\pro_BRSOads\\Credentials\\googleads.yaml''')"
   ]
  },
  {
   "cell_type": "code",
   "execution_count": 23,
   "metadata": {},
   "outputs": [],
   "source": [
    "report_downloader = adwords_client.GetReportDownloader(version='v201809')"
   ]
  },
  {
   "cell_type": "code",
   "execution_count": 24,
   "metadata": {},
   "outputs": [],
   "source": [
    "report_query = (adwords.ReportQueryBuilder()\n",
    "                  .Select('CampaignName', 'CampaignStatus', 'Date', 'CityCriteriaId', 'CountryCriteriaId',\n",
    "                          'Device', 'AccountCurrencyCode', 'Clicks', 'Impressions', \n",
    "                          'Cost', 'Conversions', 'ConversionValue')\n",
    "                  .From('GEO_PERFORMANCE_REPORT')\n",
    "                  .Where('CampaignStatus').In('ENABLED', 'PAUSED')\n",
    "                  .During('LAST_MONTH')\n",
    "                  .Build())"
   ]
  },
  {
   "cell_type": "code",
   "execution_count": 25,
   "metadata": {},
   "outputs": [
    {
     "data": {
      "text/plain": [
       "{'_awql': 'SELECT CampaignName, CampaignStatus, Date, CityCriteriaId, CountryCriteriaId, Device, AccountCurrencyCode, Clicks, Impressions, Cost, Conversions, ConversionValue FROM GEO_PERFORMANCE_REPORT WHERE CampaignStatus IN [\"ENABLED\", \"PAUSED\"] DURING LAST_MONTH'}"
      ]
     },
     "execution_count": 25,
     "metadata": {},
     "output_type": "execute_result"
    }
   ],
   "source": [
    "report_query.__dict__"
   ]
  },
  {
   "cell_type": "code",
   "execution_count": 26,
   "metadata": {
    "scrolled": true
   },
   "outputs": [],
   "source": [
    "report_downloader.DownloadReportWithAwql(\n",
    "                    report_query, 'CSV', output, skip_report_header=True,\n",
    "                    skip_column_header=False, skip_report_summary=True)"
   ]
  },
  {
   "cell_type": "code",
   "execution_count": 27,
   "metadata": {
    "scrolled": false
   },
   "outputs": [
    {
     "data": {
      "text/plain": [
       "0"
      ]
     },
     "execution_count": 27,
     "metadata": {},
     "output_type": "execute_result"
    }
   ],
   "source": [
    "output.seek(0)"
   ]
  },
  {
   "cell_type": "markdown",
   "metadata": {},
   "source": [
    "### Dataframe"
   ]
  },
  {
   "cell_type": "code",
   "execution_count": 28,
   "metadata": {
    "scrolled": false
   },
   "outputs": [
    {
     "data": {
      "text/html": [
       "<div>\n",
       "<style scoped>\n",
       "    .dataframe tbody tr th:only-of-type {\n",
       "        vertical-align: middle;\n",
       "    }\n",
       "\n",
       "    .dataframe tbody tr th {\n",
       "        vertical-align: top;\n",
       "    }\n",
       "\n",
       "    .dataframe thead th {\n",
       "        text-align: right;\n",
       "    }\n",
       "</style>\n",
       "<table border=\"1\" class=\"dataframe\">\n",
       "  <thead>\n",
       "    <tr style=\"text-align: right;\">\n",
       "      <th></th>\n",
       "      <th>Campaign</th>\n",
       "      <th>Campaign state</th>\n",
       "      <th>Day</th>\n",
       "      <th>City</th>\n",
       "      <th>Country/Territory</th>\n",
       "      <th>Device</th>\n",
       "      <th>Currency</th>\n",
       "      <th>Clicks</th>\n",
       "      <th>Impressions</th>\n",
       "      <th>Cost</th>\n",
       "      <th>Conversions</th>\n",
       "      <th>Total conv. value</th>\n",
       "    </tr>\n",
       "  </thead>\n",
       "  <tbody>\n",
       "    <tr>\n",
       "      <th>0</th>\n",
       "      <td>HTP Q3 2019 OLV BOSS Count Services: Marchex L...</td>\n",
       "      <td>enabled</td>\n",
       "      <td>2019-07-09</td>\n",
       "      <td>1024279</td>\n",
       "      <td>2840</td>\n",
       "      <td>Tablets with full browsers</td>\n",
       "      <td>USD</td>\n",
       "      <td>0</td>\n",
       "      <td>1</td>\n",
       "      <td>127988</td>\n",
       "      <td>0.0</td>\n",
       "      <td>0.0</td>\n",
       "    </tr>\n",
       "    <tr>\n",
       "      <th>1</th>\n",
       "      <td>HTP Q3 2019 OLV BOSS Count Services: Marchex L...</td>\n",
       "      <td>enabled</td>\n",
       "      <td>2019-07-09</td>\n",
       "      <td>1024279</td>\n",
       "      <td>2840</td>\n",
       "      <td>Devices streaming video content to TV screens</td>\n",
       "      <td>USD</td>\n",
       "      <td>0</td>\n",
       "      <td>10</td>\n",
       "      <td>213567</td>\n",
       "      <td>0.0</td>\n",
       "      <td>0.0</td>\n",
       "    </tr>\n",
       "    <tr>\n",
       "      <th>2</th>\n",
       "      <td>HTP Q3 2019 OLV BOSS Count Services: Good Bett...</td>\n",
       "      <td>enabled</td>\n",
       "      <td>2019-07-10</td>\n",
       "      <td>1024279</td>\n",
       "      <td>2840</td>\n",
       "      <td>Mobile devices with full browsers</td>\n",
       "      <td>USD</td>\n",
       "      <td>0</td>\n",
       "      <td>26</td>\n",
       "      <td>614376</td>\n",
       "      <td>0.0</td>\n",
       "      <td>0.0</td>\n",
       "    </tr>\n",
       "    <tr>\n",
       "      <th>3</th>\n",
       "      <td>HTP Q3 2019 OLV BOSS Count Services: Good Bett...</td>\n",
       "      <td>enabled</td>\n",
       "      <td>2019-07-10</td>\n",
       "      <td>1024279</td>\n",
       "      <td>2840</td>\n",
       "      <td>Devices streaming video content to TV screens</td>\n",
       "      <td>USD</td>\n",
       "      <td>0</td>\n",
       "      <td>19</td>\n",
       "      <td>536812</td>\n",
       "      <td>0.0</td>\n",
       "      <td>0.0</td>\n",
       "    </tr>\n",
       "    <tr>\n",
       "      <th>4</th>\n",
       "      <td>HTP Q3 2019 OLV BOSS Count Services: Marchex L...</td>\n",
       "      <td>enabled</td>\n",
       "      <td>2019-07-10</td>\n",
       "      <td>1024157</td>\n",
       "      <td>2840</td>\n",
       "      <td>Computers</td>\n",
       "      <td>USD</td>\n",
       "      <td>0</td>\n",
       "      <td>12</td>\n",
       "      <td>260716</td>\n",
       "      <td>0.0</td>\n",
       "      <td>0.0</td>\n",
       "    </tr>\n",
       "  </tbody>\n",
       "</table>\n",
       "</div>"
      ],
      "text/plain": [
       "                                            Campaign Campaign state  \\\n",
       "0  HTP Q3 2019 OLV BOSS Count Services: Marchex L...        enabled   \n",
       "1  HTP Q3 2019 OLV BOSS Count Services: Marchex L...        enabled   \n",
       "2  HTP Q3 2019 OLV BOSS Count Services: Good Bett...        enabled   \n",
       "3  HTP Q3 2019 OLV BOSS Count Services: Good Bett...        enabled   \n",
       "4  HTP Q3 2019 OLV BOSS Count Services: Marchex L...        enabled   \n",
       "\n",
       "          Day     City  Country/Territory  \\\n",
       "0  2019-07-09  1024279               2840   \n",
       "1  2019-07-09  1024279               2840   \n",
       "2  2019-07-10  1024279               2840   \n",
       "3  2019-07-10  1024279               2840   \n",
       "4  2019-07-10  1024157               2840   \n",
       "\n",
       "                                          Device Currency  Clicks  \\\n",
       "0                     Tablets with full browsers      USD       0   \n",
       "1  Devices streaming video content to TV screens      USD       0   \n",
       "2              Mobile devices with full browsers      USD       0   \n",
       "3  Devices streaming video content to TV screens      USD       0   \n",
       "4                                      Computers      USD       0   \n",
       "\n",
       "   Impressions    Cost  Conversions  Total conv. value  \n",
       "0            1  127988          0.0                0.0  \n",
       "1           10  213567          0.0                0.0  \n",
       "2           26  614376          0.0                0.0  \n",
       "3           19  536812          0.0                0.0  \n",
       "4           12  260716          0.0                0.0  "
      ]
     },
     "execution_count": 28,
     "metadata": {},
     "output_type": "execute_result"
    }
   ],
   "source": [
    "df = pd.read_csv(output)\n",
    "df.head()"
   ]
  },
  {
   "cell_type": "code",
   "execution_count": 29,
   "metadata": {},
   "outputs": [],
   "source": [
    "df.to_csv('..\\Data\\criteria_performance.csv', index=False)"
   ]
  },
  {
   "cell_type": "markdown",
   "metadata": {},
   "source": [
    "### Access BigQuery"
   ]
  },
  {
   "cell_type": "code",
   "execution_count": 30,
   "metadata": {},
   "outputs": [],
   "source": [
    "os.environ[\"GOOGLE_APPLICATION_CREDENTIALS\"] = r'''C:\\Users\\cdageforde\\Desktop\\ads\\pro_BRSOads\\Credentials\\my_cred.json'''"
   ]
  },
  {
   "cell_type": "code",
   "execution_count": 31,
   "metadata": {},
   "outputs": [],
   "source": [
    "bigquery_client = bigquery.Client()\n",
    "dataset_ref = bigquery_client.dataset('pandas_to_bq') #dataset id of new table"
   ]
  },
  {
   "cell_type": "markdown",
   "metadata": {},
   "source": [
    "### Delete Table"
   ]
  },
  {
   "cell_type": "code",
   "execution_count": 32,
   "metadata": {},
   "outputs": [
    {
     "name": "stdout",
     "output_type": "stream",
     "text": [
      "Deleted table 'icrossingdatastorage.pandas_to_bq.p2bq_table'.\n"
     ]
    }
   ],
   "source": [
    "table_id = 'icrossingdatastorage.pandas_to_bq.p2bq_table'\n",
    "bigquery_client.delete_table(table_id)\n",
    "print(\"Deleted table '{}'.\".format(table_id))"
   ]
  },
  {
   "cell_type": "markdown",
   "metadata": {},
   "source": [
    "### Create Table"
   ]
  },
  {
   "cell_type": "code",
   "execution_count": 33,
   "metadata": {},
   "outputs": [
    {
     "name": "stdout",
     "output_type": "stream",
     "text": [
      "new table p2bq_table created.\n"
     ]
    }
   ],
   "source": [
    "# Prepares a reference to the table\n",
    "table_ref = dataset_ref.table('p2bq_table') #enter new table name\n",
    "schema = []\n",
    "table = bigquery.Table(table_ref, schema=schema)\n",
    "table = bigquery_client.create_table(table)\n",
    "print('new table {} created.'.format(table.table_id))"
   ]
  },
  {
   "cell_type": "markdown",
   "metadata": {},
   "source": [
    "### Upload to BigQuery"
   ]
  },
  {
   "cell_type": "code",
   "execution_count": 34,
   "metadata": {},
   "outputs": [],
   "source": [
    "filename = r'''C:\\Users\\cdageforde\\Desktop\\ads\\pro_BRSOads\\Data\\geo_performance.csv''' #csv file path\n",
    "dataset_id = 'pandas_to_bq' #same dateset name as above\n",
    "table_id = 'p2bq_table' #same table name as above"
   ]
  },
  {
   "cell_type": "code",
   "execution_count": 35,
   "metadata": {},
   "outputs": [],
   "source": [
    "dataset_ref = bigquery_client.dataset(dataset_id)\n",
    "table_ref = dataset_ref.table(table_id)\n",
    "job_config = bigquery.LoadJobConfig()\n",
    "job_config.source_format = bigquery.SourceFormat.CSV\n",
    "job_config.skip_leading_rows = 1\n",
    "job_config.autodetect = True"
   ]
  },
  {
   "cell_type": "code",
   "execution_count": 36,
   "metadata": {},
   "outputs": [],
   "source": [
    "with open(filename, 'rb') as source_file:\n",
    " job = bigquery_client.load_table_from_file(\n",
    "       source_file,\n",
    "       table_ref,\n",
    "       location='US',  # Must match the destination dataset location.\n",
    "       job_config=job_config)  # API request"
   ]
  },
  {
   "cell_type": "code",
   "execution_count": 37,
   "metadata": {},
   "outputs": [
    {
     "data": {
      "text/plain": [
       "<google.cloud.bigquery.job.LoadJob at 0x21503f60ac8>"
      ]
     },
     "execution_count": 37,
     "metadata": {},
     "output_type": "execute_result"
    }
   ],
   "source": [
    "job.result()  # Waits for table load to complete."
   ]
  },
  {
   "cell_type": "code",
   "execution_count": 38,
   "metadata": {},
   "outputs": [
    {
     "name": "stdout",
     "output_type": "stream",
     "text": [
      "Loaded 1600 rows into pandas_to_bq:p2bq_table.\n"
     ]
    }
   ],
   "source": [
    "print('Loaded {} rows into {}:{}.'.format(\n",
    "   job.output_rows, dataset_id, table_id))"
   ]
  }
 ],
 "metadata": {
  "kernelspec": {
   "display_name": "Python 3",
   "language": "python",
   "name": "python3"
  },
  "language_info": {
   "codemirror_mode": {
    "name": "ipython",
    "version": 3
   },
   "file_extension": ".py",
   "mimetype": "text/x-python",
   "name": "python",
   "nbconvert_exporter": "python",
   "pygments_lexer": "ipython3",
   "version": "3.7.3"
  }
 },
 "nbformat": 4,
 "nbformat_minor": 2
}
